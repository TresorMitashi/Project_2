{
 "cells": [
  {
   "cell_type": "code",
   "execution_count": 2,
   "metadata": {},
   "outputs": [
    {
     "name": "stdout",
     "output_type": "stream",
     "text": [
      "[('table', 'emergency_messages', 'emergency_messages', 2, 'CREATE TABLE emergency_messages (\\n\\tid BIGINT, \\n\\tmessage TEXT, \\n\\toriginal TEXT, \\n\\tgenre TEXT, \\n\\trelated BIGINT, \\n\\trequest BIGINT, \\n\\toffer BIGINT, \\n\\taid_related BIGINT, \\n\\tmedical_help BIGINT, \\n\\tmedical_products BIGINT, \\n\\tsearch_and_rescue BIGINT, \\n\\tsecurity BIGINT, \\n\\tmilitary BIGINT, \\n\\tchild_alone BIGINT, \\n\\twater BIGINT, \\n\\tfood BIGINT, \\n\\tshelter BIGINT, \\n\\tclothing BIGINT, \\n\\tmoney BIGINT, \\n\\tmissing_people BIGINT, \\n\\trefugees BIGINT, \\n\\tdeath BIGINT, \\n\\tother_aid BIGINT, \\n\\tinfrastructure_related BIGINT, \\n\\ttransport BIGINT, \\n\\tbuildings BIGINT, \\n\\telectricity BIGINT, \\n\\ttools BIGINT, \\n\\thospitals BIGINT, \\n\\tshops BIGINT, \\n\\taid_centers BIGINT, \\n\\tother_infrastructure BIGINT, \\n\\tweather_related BIGINT, \\n\\tfloods BIGINT, \\n\\tstorm BIGINT, \\n\\tfire BIGINT, \\n\\tearthquake BIGINT, \\n\\tcold BIGINT, \\n\\tother_weather BIGINT, \\n\\tdirect_report BIGINT\\n)'), ('table', 'Clean_DATA', 'Clean_DATA', 1565, 'CREATE TABLE \"Clean_DATA\" (\\n\\tid BIGINT, \\n\\tmessage TEXT, \\n\\toriginal TEXT, \\n\\tgenre TEXT, \\n\\trelated BIGINT, \\n\\trequest BIGINT, \\n\\toffer BIGINT, \\n\\taid_related BIGINT, \\n\\tmedical_help BIGINT, \\n\\tmedical_products BIGINT, \\n\\tsearch_and_rescue BIGINT, \\n\\tsecurity BIGINT, \\n\\tmilitary BIGINT, \\n\\tchild_alone BIGINT, \\n\\twater BIGINT, \\n\\tfood BIGINT, \\n\\tshelter BIGINT, \\n\\tclothing BIGINT, \\n\\tmoney BIGINT, \\n\\tmissing_people BIGINT, \\n\\trefugees BIGINT, \\n\\tdeath BIGINT, \\n\\tother_aid BIGINT, \\n\\tinfrastructure_related BIGINT, \\n\\ttransport BIGINT, \\n\\tbuildings BIGINT, \\n\\telectricity BIGINT, \\n\\ttools BIGINT, \\n\\thospitals BIGINT, \\n\\tshops BIGINT, \\n\\taid_centers BIGINT, \\n\\tother_infrastructure BIGINT, \\n\\tweather_related BIGINT, \\n\\tfloods BIGINT, \\n\\tstorm BIGINT, \\n\\tfire BIGINT, \\n\\tearthquake BIGINT, \\n\\tcold BIGINT, \\n\\tother_weather BIGINT, \\n\\tdirect_report BIGINT\\n)')]\n"
     ]
    }
   ],
   "source": [
    "import sqlite3\n",
    "\n",
    "conn = sqlite3.connect('DISASTER_CLEAN.db')\n",
    "cursor = conn.cursor()\n",
    "cursor.execute(\"SELECT * FROM sqlite_master WHERE type='table';\")\n",
    "tables = cursor.fetchall()\n",
    "print(tables)"
   ]
  },
  {
   "cell_type": "code",
   "execution_count": null,
   "metadata": {},
   "outputs": [],
   "source": []
  }
 ],
 "metadata": {
  "kernelspec": {
   "display_name": "Python 3",
   "language": "python",
   "name": "python3"
  },
  "language_info": {
   "codemirror_mode": {
    "name": "ipython",
    "version": 3
   },
   "file_extension": ".py",
   "mimetype": "text/x-python",
   "name": "python",
   "nbconvert_exporter": "python",
   "pygments_lexer": "ipython3",
   "version": "3.7.4"
  }
 },
 "nbformat": 4,
 "nbformat_minor": 2
}
